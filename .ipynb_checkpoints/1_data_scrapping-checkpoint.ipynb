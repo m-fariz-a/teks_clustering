{
 "cells": [
  {
   "cell_type": "markdown",
   "id": "05dfad5d-42bf-4c45-a7fa-d44bd10b356b",
   "metadata": {},
   "source": [
    "# import libraries"
   ]
  },
  {
   "cell_type": "code",
   "execution_count": 1,
   "id": "8821383d-1091-4843-b2fb-c04fe11845cb",
   "metadata": {},
   "outputs": [],
   "source": [
    "# Import the beautifulsoup \n",
    "# and request libraries of python.\n",
    "\n",
    "import requests\n",
    "import bs4\n",
    "from time import sleep\n",
    "from random import randint\n",
    "\n",
    "import pandas as pd\n",
    "import numpy as np"
   ]
  },
  {
   "cell_type": "markdown",
   "id": "1fd46d7d-f511-40ea-b335-4d00c948cdb0",
   "metadata": {},
   "source": [
    "# scrapping section"
   ]
  },
  {
   "cell_type": "markdown",
   "id": "cb198e5a-5b45-41fa-9eb4-b19d42ea79b6",
   "metadata": {},
   "source": [
    "We will scrap a search result from google for 10 pages"
   ]
  },
  {
   "cell_type": "code",
   "execution_count": 2,
   "id": "3957c750-03fe-44b9-b10b-a83b08b614d0",
   "metadata": {},
   "outputs": [
    {
     "name": "stdout",
     "output_type": "stream",
     "text": [
      "scrapping for page 1, request status: <Response [200]> ...\n",
      "scrapping for page 2, request status: <Response [200]> ...\n",
      "scrapping for page 3, request status: <Response [200]> ...\n",
      "scrapping for page 4, request status: <Response [200]> ...\n",
      "scrapping for page 5, request status: <Response [200]> ...\n",
      "scrapping for page 6, request status: <Response [200]> ...\n",
      "scrapping for page 7, request status: <Response [200]> ...\n",
      "scrapping for page 8, request status: <Response [200]> ...\n",
      "scrapping for page 9, request status: <Response [200]> ...\n",
      "scrapping for page 10, request status: <Response [200]> ...\n"
     ]
    }
   ],
   "source": [
    "input_text = 'linux for beginner'\n",
    "text = input_text.replace(' ','+')\n",
    "pages = np.arange(0, 100, 10)\n",
    "\n",
    "list_soup = []\n",
    "for i, page in enumerate(pages):\n",
    "    url = f'https://www.google.com/search?q={text}&start={page}'\n",
    "\n",
    "    # Fetch the URL data\n",
    "    request_result=requests.get( url )\n",
    "    \n",
    "    print(f'scrapping for page {i+1}, request status: {request_result} ...')\n",
    "\n",
    "    # Creating soup from the fetched request\n",
    "    soup = bs4.BeautifulSoup(request_result.text,\n",
    "                             \"html.parser\")\n",
    "    \n",
    "    # append result per peage\n",
    "    list_soup.append(soup)\n",
    "    \n",
    "    # pause search for evry iteration with random number\n",
    "    # the more number the more delay\n",
    "    # it is usefull to avoid security issue\n",
    "    sleep(randint(2,10))"
   ]
  },
  {
   "cell_type": "markdown",
   "id": "0652940a-c818-4963-a819-e092db0fb727",
   "metadata": {},
   "source": [
    "all responses code are 200, so the get request is complete for all pages"
   ]
  },
  {
   "cell_type": "markdown",
   "id": "913cb810-97d0-41fc-8f4e-01b50bac24f9",
   "metadata": {},
   "source": [
    "# create dataframe from scrapping result"
   ]
  },
  {
   "cell_type": "code",
   "execution_count": 3,
   "id": "b1c1a588-2fe4-49cf-8eb8-f940f8500d8c",
   "metadata": {
    "scrolled": true,
    "tags": []
   },
   "outputs": [],
   "source": [
    "title_list = []\n",
    "url_list = []\n",
    "page_list = []\n",
    "rank_list = []\n",
    "\n",
    "# initial page\n",
    "web_page = 1\n",
    "rank_item = 1\n",
    "\n",
    "# loop for all result\n",
    "for i, soup in enumerate(list_soup):\n",
    "\n",
    "    # get links in website page\n",
    "    links = soup.find_all(\"a\")\n",
    "\n",
    "    # get url and website title\n",
    "    for link in links:\n",
    "        link_href = link.get('href')\n",
    "        \n",
    "        if (\"url?q=\" in link_href) and (not \"webcache\" in link_href):\n",
    "            # get content title\n",
    "            title = link.find_all('h3')\n",
    "            \n",
    "            if len(title) > 0:\n",
    "                url_web = link.get('href').split(\"?q=\")[1].split(\"&sa=U\")[0]\n",
    "                title_web = title[0].getText()\n",
    "                \n",
    "                title_list.extend([title_web])\n",
    "                url_list.extend([url_web])\n",
    "                page_list.extend([web_page])\n",
    "                rank_list.extend([rank_item])\n",
    "                \n",
    "                rank_item+=1\n",
    "    web_page+=1"
   ]
  },
  {
   "cell_type": "code",
   "execution_count": 4,
   "id": "354e59c4-6d7a-45f4-aca7-1b614d0324bc",
   "metadata": {},
   "outputs": [
    {
     "data": {
      "text/html": [
       "<div>\n",
       "<style scoped>\n",
       "    .dataframe tbody tr th:only-of-type {\n",
       "        vertical-align: middle;\n",
       "    }\n",
       "\n",
       "    .dataframe tbody tr th {\n",
       "        vertical-align: top;\n",
       "    }\n",
       "\n",
       "    .dataframe thead th {\n",
       "        text-align: right;\n",
       "    }\n",
       "</style>\n",
       "<table border=\"1\" class=\"dataframe\">\n",
       "  <thead>\n",
       "    <tr style=\"text-align: right;\">\n",
       "      <th></th>\n",
       "      <th>page number</th>\n",
       "      <th>rank</th>\n",
       "      <th>domain</th>\n",
       "      <th>url</th>\n",
       "      <th>title</th>\n",
       "    </tr>\n",
       "  </thead>\n",
       "  <tbody>\n",
       "    <tr>\n",
       "      <th>0</th>\n",
       "      <td>1</td>\n",
       "      <td>1</td>\n",
       "      <td>itsfoss.com</td>\n",
       "      <td>https://itsfoss.com/best-linux-beginners/</td>\n",
       "      <td>Best Linux Distributions That are Most Suitabl...</td>\n",
       "    </tr>\n",
       "    <tr>\n",
       "      <th>1</th>\n",
       "      <td>1</td>\n",
       "      <td>2</td>\n",
       "      <td>www.zdnet.com</td>\n",
       "      <td>https://www.zdnet.com/article/best-linux-deskt...</td>\n",
       "      <td>The 5 best Linux distros for beginners in 2022...</td>\n",
       "    </tr>\n",
       "    <tr>\n",
       "      <th>2</th>\n",
       "      <td>1</td>\n",
       "      <td>3</td>\n",
       "      <td>www.debugpoint.com</td>\n",
       "      <td>https://www.debugpoint.com/linux-distro-beginn...</td>\n",
       "      <td>Top 10 Linux Distros for Beginners in 2022 [Co...</td>\n",
       "    </tr>\n",
       "    <tr>\n",
       "      <th>3</th>\n",
       "      <td>1</td>\n",
       "      <td>4</td>\n",
       "      <td>www.youtube.com</td>\n",
       "      <td>https://www.youtube.com/watch%3Fv%3DROjZy1WbCIA</td>\n",
       "      <td>Linux Operating System - Crash Course for Begi...</td>\n",
       "    </tr>\n",
       "    <tr>\n",
       "      <th>4</th>\n",
       "      <td>1</td>\n",
       "      <td>5</td>\n",
       "      <td>ubuntu.com</td>\n",
       "      <td>https://ubuntu.com/tutorials/command-line-for-...</td>\n",
       "      <td>The Linux command line for beginners - Ubuntu</td>\n",
       "    </tr>\n",
       "    <tr>\n",
       "      <th>...</th>\n",
       "      <td>...</td>\n",
       "      <td>...</td>\n",
       "      <td>...</td>\n",
       "      <td>...</td>\n",
       "      <td>...</td>\n",
       "    </tr>\n",
       "    <tr>\n",
       "      <th>94</th>\n",
       "      <td>10</td>\n",
       "      <td>95</td>\n",
       "      <td>www.edureka.co</td>\n",
       "      <td>https://www.edureka.co/blog/interview-question...</td>\n",
       "      <td>Top 50 Linux Interview Questions and Answers i...</td>\n",
       "    </tr>\n",
       "    <tr>\n",
       "      <th>95</th>\n",
       "      <td>10</td>\n",
       "      <td>96</td>\n",
       "      <td>www.computer-pdf.com</td>\n",
       "      <td>https://www.computer-pdf.com/operating-system/...</td>\n",
       "      <td>[PDF] Linux Fundamentals free tutorial for Beg...</td>\n",
       "    </tr>\n",
       "    <tr>\n",
       "      <th>96</th>\n",
       "      <td>10</td>\n",
       "      <td>97</td>\n",
       "      <td>aktif.net</td>\n",
       "      <td>https://aktif.net/en/simple-linux-commands-for...</td>\n",
       "      <td>Simple Linux Commands for Beginners – Aktif</td>\n",
       "    </tr>\n",
       "    <tr>\n",
       "      <th>97</th>\n",
       "      <td>10</td>\n",
       "      <td>98</td>\n",
       "      <td>www.seeedstudio.com</td>\n",
       "      <td>https://www.seeedstudio.com/blog/2021/01/20/be...</td>\n",
       "      <td>Embedded Linux: A Beginner's Guide - Latest Op...</td>\n",
       "    </tr>\n",
       "    <tr>\n",
       "      <th>98</th>\n",
       "      <td>10</td>\n",
       "      <td>99</td>\n",
       "      <td>maker.pro</td>\n",
       "      <td>https://maker.pro/linux/tutorial/basic-linux-c...</td>\n",
       "      <td>Basic Linux Commands for Beginners - Maker Pro</td>\n",
       "    </tr>\n",
       "  </tbody>\n",
       "</table>\n",
       "<p>99 rows × 5 columns</p>\n",
       "</div>"
      ],
      "text/plain": [
       "    page number  rank                domain  \\\n",
       "0             1     1           itsfoss.com   \n",
       "1             1     2         www.zdnet.com   \n",
       "2             1     3    www.debugpoint.com   \n",
       "3             1     4       www.youtube.com   \n",
       "4             1     5            ubuntu.com   \n",
       "..          ...   ...                   ...   \n",
       "94           10    95        www.edureka.co   \n",
       "95           10    96  www.computer-pdf.com   \n",
       "96           10    97             aktif.net   \n",
       "97           10    98   www.seeedstudio.com   \n",
       "98           10    99             maker.pro   \n",
       "\n",
       "                                                  url  \\\n",
       "0           https://itsfoss.com/best-linux-beginners/   \n",
       "1   https://www.zdnet.com/article/best-linux-deskt...   \n",
       "2   https://www.debugpoint.com/linux-distro-beginn...   \n",
       "3     https://www.youtube.com/watch%3Fv%3DROjZy1WbCIA   \n",
       "4   https://ubuntu.com/tutorials/command-line-for-...   \n",
       "..                                                ...   \n",
       "94  https://www.edureka.co/blog/interview-question...   \n",
       "95  https://www.computer-pdf.com/operating-system/...   \n",
       "96  https://aktif.net/en/simple-linux-commands-for...   \n",
       "97  https://www.seeedstudio.com/blog/2021/01/20/be...   \n",
       "98  https://maker.pro/linux/tutorial/basic-linux-c...   \n",
       "\n",
       "                                                title  \n",
       "0   Best Linux Distributions That are Most Suitabl...  \n",
       "1   The 5 best Linux distros for beginners in 2022...  \n",
       "2   Top 10 Linux Distros for Beginners in 2022 [Co...  \n",
       "3   Linux Operating System - Crash Course for Begi...  \n",
       "4       The Linux command line for beginners - Ubuntu  \n",
       "..                                                ...  \n",
       "94  Top 50 Linux Interview Questions and Answers i...  \n",
       "95  [PDF] Linux Fundamentals free tutorial for Beg...  \n",
       "96        Simple Linux Commands for Beginners – Aktif  \n",
       "97  Embedded Linux: A Beginner's Guide - Latest Op...  \n",
       "98     Basic Linux Commands for Beginners - Maker Pro  \n",
       "\n",
       "[99 rows x 5 columns]"
      ]
     },
     "metadata": {},
     "output_type": "display_data"
    }
   ],
   "source": [
    "# create dataframe\n",
    "df_result = pd.DataFrame({'page number':page_list,\n",
    "                   'rank':rank_list,\n",
    "                   'url':url_list,\n",
    "                   \"title\":title_list})\n",
    "\n",
    "# insert url doman\n",
    "df_result.insert(loc=df_result.columns.get_loc('url'), column='domain', \n",
    "                 value=df_result['url'].str.split('/').str[2])\n",
    "\n",
    "display(df_result)"
   ]
  },
  {
   "cell_type": "markdown",
   "id": "bcafe2db-c445-4d0c-8bf6-c5e5d5ac28f2",
   "metadata": {},
   "source": [
    "# save result"
   ]
  },
  {
   "cell_type": "code",
   "execution_count": 5,
   "id": "ab55eedd-9827-45d2-b147-60be64628a16",
   "metadata": {},
   "outputs": [],
   "source": [
    "# save data\n",
    "df_result.to_csv(\"scrapping_result.csv\", sep=',', index=False, quoting=1)"
   ]
  }
 ],
 "metadata": {
  "kernelspec": {
   "display_name": "Python 3 (ipykernel)",
   "language": "python",
   "name": "python3"
  },
  "language_info": {
   "codemirror_mode": {
    "name": "ipython",
    "version": 3
   },
   "file_extension": ".py",
   "mimetype": "text/x-python",
   "name": "python",
   "nbconvert_exporter": "python",
   "pygments_lexer": "ipython3",
   "version": "3.9.13"
  },
  "vscode": {
   "interpreter": {
    "hash": "b7a8bbf8280d739911ee0fb92c2a18e877feb5454e3bd0217f9b485bdc87c128"
   }
  }
 },
 "nbformat": 4,
 "nbformat_minor": 5
}
